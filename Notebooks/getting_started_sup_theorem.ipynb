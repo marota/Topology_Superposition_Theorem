{
 "cells": [
  {
   "cell_type": "markdown",
   "metadata": {
    "toc": true
   },
   "source": [
    "<h1>Table of Contents<span class=\"tocSkip\"></span></h1>\n",
    "<div class=\"toc\"><ul class=\"toc-item\"><li><span><a href=\"#compute-the-LODF-matrix\" data-toc-modified-id=\"compute-the-LODF-matrix-1\"><span class=\"toc-item-num\">1&nbsp;&nbsp;</span>compute the LODF matrix</a></span></li><li><span><a href=\"#superposition-theorem-flow-computation\" data-toc-modified-id=\"superposition-theorem-flow-computation-2\"><span class=\"toc-item-num\">2&nbsp;&nbsp;</span>superposition theorem flow computation</a></span></li><li><span><a href=\"#Combinations-of-2-actions-of-same-kind\" data-toc-modified-id=\"Combinations-of-2-actions-of-same-kind-3\"><span class=\"toc-item-num\">3&nbsp;&nbsp;</span>Combinations of 2 actions of same kind</a></span><ul class=\"toc-item\"><li><span><a href=\"#2-line-reconnections\" data-toc-modified-id=\"2-line-reconnections-3.1\"><span class=\"toc-item-num\">3.1&nbsp;&nbsp;</span>2 line reconnections</a></span></li><li><span><a href=\"#2-line-disconnections\" data-toc-modified-id=\"2-line-disconnections-3.2\"><span class=\"toc-item-num\">3.2&nbsp;&nbsp;</span>2 line disconnections</a></span></li><li><span><a href=\"#2-node-splitting\" data-toc-modified-id=\"2-node-splitting-3.3\"><span class=\"toc-item-num\">3.3&nbsp;&nbsp;</span>2 node splitting</a></span></li><li><span><a href=\"#2-node-merging-actions\" data-toc-modified-id=\"2-node-merging-actions-3.4\"><span class=\"toc-item-num\">3.4&nbsp;&nbsp;</span>2 node merging actions</a></span></li></ul></li><li><span><a href=\"#Four-action-combination-with-all-types\" data-toc-modified-id=\"Four-action-combination-with-all-types-4\"><span class=\"toc-item-num\">4&nbsp;&nbsp;</span>Four action combination with all types</a></span></li></ul></div>"
   ]
  },
  {
   "cell_type": "code",
   "execution_count": null,
   "metadata": {},
   "outputs": [],
   "source": [
    "import sys\n",
    "import grid2op\n",
    "import numpy as np\n",
    "from superposition_theorem import *\n",
    "env = grid2op.make(\"l2rpn_case14_sandbox\")\n",
    "param = env.parameters\n",
    "param.ENV_DC = True  # force the computation of the powerflow in DC mode\n",
    "param.MAX_LINE_STATUS_CHANGED = 99999\n",
    "param.MAX_SUB_CHANGED = 99999\n",
    "param.NO_OVERFLOW_DISCONNECTION = True\n",
    "env.change_parameters(param)\n",
    "env.change_forecast_parameters(param)"
   ]
  },
  {
   "cell_type": "code",
   "execution_count": null,
   "metadata": {},
   "outputs": [],
   "source": [
    "time_series_id = 0\n",
    "\n",
    "#if you want to reset the environment on your time serie, always do env.set_id first\n",
    "env.set_id(time_series_id)\n",
    "_ = env.reset()"
   ]
  },
  {
   "cell_type": "code",
   "execution_count": null,
   "metadata": {},
   "outputs": [],
   "source": [
    "paths = [i for i in sys.path]\n",
    "for path in paths:\n",
    "    sys.path.append(path)"
   ]
  },
  {
   "cell_type": "markdown",
   "metadata": {},
   "source": [
    "# compute the LODF matrix \n",
    "\n",
    "This was the basis for the initial demonstrations. But we directly use the available grid states in the implementation now.\n",
    "\n",
    "$$\\delta_{i,j} = \\frac{F_j^{i} - F_j}{F_i}$$\n",
    "\n",
    "with:\n",
    "- $\\delta_{i,j}$ : \"le coefficient de report\"\n",
    "- $F_k$: the active flow on line `k`\n",
    "- $F_j^{i}$: the flow on line j if the line i is disconnected\n",
    "\n",
    "We are interested, given all the $\\delta_{i,j}$ to compute the $\\delta_{\\{i,j,k, ...\\}, m}$ which are the flows on line `m` when the lines $\\{i,j,k, ...\\}$ are disconnected"
   ]
  },
  {
   "cell_type": "markdown",
   "metadata": {},
   "source": [
    "**This is not explicitly needed anymore in our approach**\n",
    "\n",
    "But is a common data structure used for all other approches such as LODF. So we keep its computation there"
   ]
  },
  {
   "cell_type": "code",
   "execution_count": null,
   "metadata": {},
   "outputs": [],
   "source": [
    "obs = env.reset()\n",
    "#with env.copy() as tmp_env_init:\n",
    "init_obs, *_ = obs.simulate(env.action_space(), 0)\n",
    "F = 1. * init_obs.p_or"
   ]
  },
  {
   "cell_type": "code",
   "execution_count": null,
   "metadata": {},
   "outputs": [],
   "source": [
    "all_flows = np.zeros((env.n_line, env.n_line))\n",
    "for l_id in range(env.n_line):\n",
    "    obs_disco, *_ = obs.simulate(env.action_space({\"set_line_status\": [(l_id, -1)]}), time_step=0)\n",
    "    all_flows[l_id, :] = obs_disco.p_or"
   ]
  },
  {
   "cell_type": "code",
   "execution_count": null,
   "metadata": {},
   "outputs": [],
   "source": [
    "A = (all_flows - F) / F.reshape(-1, 1)"
   ]
  },
  {
   "cell_type": "code",
   "execution_count": null,
   "metadata": {},
   "outputs": [],
   "source": [
    "from grid2op.PlotGrid import PlotMatplot\n",
    "plot_helper = PlotMatplot(env.observation_space)\n",
    "fig = plot_helper.plot_obs(init_obs,line_info=\"p\")\n",
    "fig.show()\n"
   ]
  },
  {
   "cell_type": "markdown",
   "metadata": {},
   "source": [
    "# Flow computation: using the \"superposition theorem\""
   ]
  },
  {
   "cell_type": "markdown",
   "metadata": {},
   "source": [
    "Here is the extended superposition theroem for topological changes. The resulting powerflows is a linear combination of unitary change power flows:\n",
    "\n",
    "\\begin{align*}\n",
    "    PF(T)=\\alpha\\times PF(T_{ref}) + \\beta_1\\times PF(T_{ref}\\circ \\tau_1) + \\beta_2\\times PF(T_{ref}\\circ \\tau_2) \\\\\n",
    "    \\text{with } T=T_{ref} \\circ \\tau_1 \\circ \\tau_2  \\text{ and } \\alpha=1-\\beta_1-\\beta_2\n",
    "\\end{align*}\n",
    "\n",
    "We have $T_{ref}$ as the reference topology from which we apply topological changes $\\tau_1$ and $\\tau_2$ in indifferent order to reach a target topology $T$. \n",
    "\n",
    "Finding the betas simply stems from solving a linear system of dimension the number of considered changes. Only minimal information from individual power flow state is needed for this, without knowledge of any underlying grid properties or complete adjacency matrix."
   ]
  },
  {
   "cell_type": "code",
   "execution_count": null,
   "metadata": {
    "scrolled": false
   },
   "outputs": [],
   "source": [
    "from superposition_theorem.core.compute_power_flows import compute_flows_superposition_theorem_from_actions, compute_flows_superposition_theorem_from_unit_act_obs\n",
    "import inspect\n",
    "from IPython.display import Code\n",
    "\n",
    "display(Code(inspect.getsource(compute_flows_superposition_theorem_from_unit_act_obs), language='python'))\n"
   ]
  },
  {
   "cell_type": "markdown",
   "metadata": {},
   "source": [
    "This relies on the computation of beta coefficients from this function"
   ]
  },
  {
   "cell_type": "code",
   "execution_count": null,
   "metadata": {},
   "outputs": [],
   "source": [
    "from superposition_theorem.core.compute_beta_coefficients import get_betas_coeff_N_unit_acts_ultimate\n",
    "display(Code(inspect.getsource(get_betas_coeff_N_unit_acts_ultimate), language='python'))\n"
   ]
  },
  {
   "cell_type": "markdown",
   "metadata": {},
   "source": [
    "# Combinations of 2 actions of same kind"
   ]
  },
  {
   "cell_type": "markdown",
   "metadata": {},
   "source": [
    "Notice: You can look at the tests of the package for extensive combinatorial use cases, and for getting a better grasp on the code"
   ]
  },
  {
   "cell_type": "code",
   "execution_count": null,
   "metadata": {},
   "outputs": [],
   "source": [
    "time_series_id = 0\n",
    "decimal_accuracy = 4 # when assessing the accuracy of the superposition theorem computation compared to a full load flow computation"
   ]
  },
  {
   "cell_type": "markdown",
   "metadata": {},
   "source": [
    "## 2 line reconnections"
   ]
  },
  {
   "cell_type": "markdown",
   "id": "c1b66ea6",
   "metadata": {},
   "source": [
    "Compute the beta coefficients, compared to what betas are expected in the case we already know the target flows"
   ]
  },
  {
   "cell_type": "code",
   "execution_count": null,
   "metadata": {},
   "outputs": [],
   "source": [
    "from superposition_theorem.core.compute_power_flows import get_delta_theta_line\n",
    "\n",
    "env.set_id(time_series_id)\n",
    "env.reset()\n",
    "\n",
    "id_l1 = 3  # 1#2#3\n",
    "id_l2 = 7  # 2#4#7\n",
    "unitary_action_list = [{\"set_line_status\": [(id_l1, +1)]},  # sub5\n",
    "                       {\"set_line_status\": [(id_l2, +1)]},  # sub4\n",
    "                       ]\n",
    "\n",
    "# need opposite list of actions to start with an observation where those lines are disconnected\n",
    "opposite_action_list = [{\"set_line_status\": [(id_l1, -1)]},\n",
    "                        {\"set_line_status\": [(id_l2, -1)]}]\n",
    "\n",
    "combined_opposite_action = env.action_space(opposite_action_list[0]) + env.action_space(opposite_action_list[1])\n",
    "obs_start, reward, done, info  = env.step(combined_opposite_action)\n",
    "if done:\n",
    "    raise RuntimeError(\"The action you propose leads to a divergence of the power flow. No feasible state can be found.\")\n",
    "unitary_actions = [env.action_space(unitary_act) for unitary_act in unitary_action_list]\n",
    "\n",
    "# computing obs_target load flow with the effect of combined action: this is the ground truth to compare to\n",
    "\n",
    "combined_action = unitary_actions[0] + unitary_actions[1]\n",
    "obs_target = obs_start.simulate(combined_action, time_step=0)[0]\n",
    "\n"
   ]
  },
  {
   "cell_type": "code",
   "execution_count": null,
   "metadata": {},
   "outputs": [],
   "source": [
    "print(\"initial state with lines disconnected to reconnect\")\n",
    "fig = plot_helper.plot_obs(obs_start,line_info=\"p\")\n",
    "fig.show()"
   ]
  },
  {
   "cell_type": "code",
   "execution_count": null,
   "metadata": {},
   "outputs": [],
   "source": [
    "print(\"final state with lines reconnected\")\n",
    "fig = plot_helper.plot_obs(obs_target, line_info=\"p\")\n",
    "fig.show()"
   ]
  },
  {
   "cell_type": "markdown",
   "metadata": {},
   "source": [
    "\"All by hand\""
   ]
  },
  {
   "cell_type": "code",
   "execution_count": null,
   "metadata": {},
   "outputs": [],
   "source": [
    "# computing intermediate states in which we applied one unitary action\n",
    "\n",
    "obs1 = obs_start.simulate(unitary_actions[0], time_step=0)[0]\n",
    "obs2 = obs_start.simulate(unitary_actions[1], time_step=0)[0]\n",
    "\n",
    "# solving the linear system by \"hand\" and computing the superposition\n",
    "a = np.array([[1, 1 - get_delta_theta_line(obs2, id_l1) / get_delta_theta_line(obs_start, id_l1)],\n",
    "              [1 -  get_delta_theta_line(obs1, id_l2) / get_delta_theta_line(obs_start, id_l2), 1]])\n",
    "\n",
    "b = np.ones(2)\n",
    "betas = np.linalg.solve(a, b)\n",
    "\n",
    "print(f\"beta coefficients are: {betas}\")\n",
    "\n",
    "p_target_computed = betas[0] * obs1.p_or + betas[1] * obs2.p_or + (1 - betas.sum()) * obs_start.p_or\n",
    "\n",
    "assert (np.all((np.round(obs_target.p_or - p_target_computed,decimal_accuracy ) == 0.0)))\n",
    "\n",
    "print(p_target_computed)\n"
   ]
  },
  {
   "cell_type": "markdown",
   "metadata": {},
   "source": [
    "You could have computed the betas with this function"
   ]
  },
  {
   "cell_type": "code",
   "execution_count": null,
   "metadata": {},
   "outputs": [],
   "source": [
    "idls_lines = [id_l1, id_l2]\n",
    "unit_act_observations = [obs1, obs2]\n",
    "\n",
    "# getting delta thetas and ative power flows\n",
    "delta_theta_unit_act_lines = np.array(\n",
    "    [[get_delta_theta_line(obs_connect_idl, id_lj) for id_lj in idls_lines] for obs_connect_idl in\n",
    "     unit_act_observations])\n",
    "\n",
    "p_or_unit_act_lines = np.array([[obs_connect_idl.p_or[id_lj] for id_lj in idls_lines] for obs_connect_idl in\n",
    "                                    unit_act_observations])#[0:n_line_actions]])\n",
    "\n",
    "# obs_start\n",
    "delta_theta_obs_start_lines = np.array([get_delta_theta_line(obs_start, id_lj) for id_lj in idls_lines])\n",
    "p_or_obs_start_lines = np.array([obs_start.p_or[id_lj] for id_lj in idls_lines])\n",
    "\n",
    "\n",
    "betas = get_betas_coeff_N_unit_acts_ultimate(delta_theta_unit_act_lines,\n",
    "                                             delta_theta_obs_start_lines,\n",
    "                                             p_or_unit_act_lines,\n",
    "                                             p_or_obs_start_lines,\n",
    "                                             delta_theta_obs_target=None,\n",
    "                                             p_or_obs_target=None,\n",
    "                                             idls=idls_lines,\n",
    "                                             verbose=True)\n",
    "\n",
    "print(f\"beta coefficients are: {betas}\")"
   ]
  },
  {
   "cell_type": "markdown",
   "metadata": {},
   "source": [
    "Or you could have directly computed the resulting flows with the superposition theorem\n"
   ]
  },
  {
   "cell_type": "code",
   "execution_count": null,
   "metadata": {},
   "outputs": [],
   "source": [
    "idls_subs = []\n",
    "p_or_combined_action = compute_flows_superposition_theorem_from_unit_act_obs(idls_lines,\n",
    "                                                                             idls_subs,\n",
    "                                                                             obs_start,\n",
    "                                                                             obs_target,\n",
    "                                                                             unit_act_observations)\n",
    "print(\"check target flows\")\n",
    "decimal_digit_precision = 4\n",
    "target_obs, *_ = obs_start.simulate(combined_action, time_step=0)\n",
    "print(target_obs.p_or)\n",
    "print(p_or_combined_action)\n",
    "assert (np.all((np.round(target_obs.p_or - p_or_combined_action, decimal_digit_precision) == 0.0)))\n",
    "print(f\"Max difference (MW): {np.max(np.abs(target_obs.p_or - p_or_combined_action))}\")"
   ]
  },
  {
   "cell_type": "markdown",
   "metadata": {},
   "source": [
    "## 2 line disconnections"
   ]
  },
  {
   "cell_type": "markdown",
   "metadata": {},
   "source": [
    "compute the beta coefficients, compared to what betas are expected in the case we already know the target flows"
   ]
  },
  {
   "cell_type": "code",
   "execution_count": null,
   "metadata": {},
   "outputs": [],
   "source": [
    "env.set_id(time_series_id)\n",
    "env.reset()\n",
    "\n",
    "id_l1 = 3  # 1#2#3\n",
    "id_l2 = 7  # 2#4#7\n",
    "unitary_action_list = [{\"set_line_status\": [(id_l1, -1)]},  # sub5\n",
    "                       {\"set_line_status\": [(id_l2, -1)]},  # sub4\n",
    "                       ]\n",
    "\n",
    "\n",
    "obs_start, *_  = env.step(env.action_space({}))\n",
    "\n",
    "unitary_actions = [env.action_space(unitary_act) for unitary_act in unitary_action_list]\n",
    "\n",
    "# computing obs_target load flow with the effect of combined action: this is the ground truth to compare to\n",
    "\n",
    "combined_action = unitary_actions[0] + unitary_actions[1]\n",
    "obs_target = obs_start.simulate(combined_action, time_step=0)[0]\n",
    "\n"
   ]
  },
  {
   "cell_type": "code",
   "execution_count": null,
   "metadata": {},
   "outputs": [],
   "source": [
    "print(\"initial state with lines disconnected to reconnect\")\n",
    "fig = plot_helper.plot_obs(obs_start, line_info=\"p\")\n",
    "fig.show()"
   ]
  },
  {
   "cell_type": "code",
   "execution_count": null,
   "metadata": {},
   "outputs": [],
   "source": [
    "print(\"final state with lines reconnected\")\n",
    "fig = plot_helper.plot_obs(obs_target, line_info=\"p\")\n",
    "fig.show()"
   ]
  },
  {
   "cell_type": "markdown",
   "metadata": {},
   "source": [
    "\"All by hand\""
   ]
  },
  {
   "cell_type": "code",
   "execution_count": null,
   "metadata": {},
   "outputs": [],
   "source": [
    "# computing intermediate states in which we applied one unitary action\n",
    "\n",
    "obs1 = obs_start.simulate(unitary_actions[0], time_step=0)[0]\n",
    "obs2 = obs_start.simulate(unitary_actions[1], time_step=0)[0]\n",
    "\n",
    "# solving the linear system by \"hand\" and computing the superposition\n",
    "a = np.array([[1, 1 - obs2.p_or[id_l1] / obs_start.p_or[id_l1]],\n",
    "              [1 - obs1.p_or[id_l2] / obs_start.p_or[id_l2], 1]])\n",
    "\n",
    "b = np.ones(2)\n",
    "betas = np.linalg.solve(a, b)\n",
    "\n",
    "print(\"beta coefficients are: \"+str(betas))\n",
    "\n",
    "p_target_computed = betas[0] * obs1.p_or + betas[1] * obs2.p_or + (1 - betas.sum()) * obs_start.p_or\n",
    "\n",
    "print(f\"Max difference (MW): {np.max(np.abs(obs_target.p_or - p_target_computed))}\")\n",
    "\n",
    "print(p_target_computed)\n"
   ]
  },
  {
   "cell_type": "markdown",
   "metadata": {},
   "source": [
    "Or you could have directly computed the resulting flows with the superposition theorem\n"
   ]
  },
  {
   "cell_type": "code",
   "execution_count": null,
   "metadata": {},
   "outputs": [],
   "source": [
    "idls_subs=[]\n",
    "idls_lines = [id_l1, id_l2]\n",
    "unit_act_observations = [obs1, obs2]\n",
    "\n",
    "p_or_combined_action = compute_flows_superposition_theorem_from_unit_act_obs(idls_lines,\n",
    "                                                                             idls_subs,\n",
    "                                                                             obs_start,\n",
    "                                                                             obs_target,\n",
    "                                                                             unit_act_observations)\n",
    "print(\"check target flows\")\n",
    "decimal_digit_precision = 4\n",
    "target_obs, *_ = obs_start.simulate(combined_action, time_step=0)\n",
    "print(target_obs.p_or)\n",
    "print(p_or_combined_action)\n",
    "print(f\"Max difference (MW): {np.max(np.abs(target_obs.p_or - p_or_combined_action))}\")"
   ]
  },
  {
   "cell_type": "markdown",
   "metadata": {},
   "source": [
    "## 2 node splitting"
   ]
  },
  {
   "cell_type": "markdown",
   "metadata": {},
   "source": [
    "compute the beta coefficients, compared to what betas are expected in the case we already know the target flows"
   ]
  },
  {
   "cell_type": "code",
   "execution_count": null,
   "metadata": {},
   "outputs": [],
   "source": [
    "env.set_id(time_series_id)\n",
    "env.reset()\n",
    "\n",
    "id_sub1 = 5  \n",
    "id_sub2 = 4  \n",
    "unitary_action_list = [{'set_bus': {'substations_id': [(5, (1, 1, 2, 2, 1, 2, 2))]}},  # sub5\n",
    "                       {'set_bus': {'substations_id': [(4, (2, 1, 2, 1, 2))]}},  # sub4\n",
    "                       ]\n",
    "\n",
    "\n",
    "obs_start, *_  = env.step(env.action_space({}))\n",
    "\n",
    "unitary_actions = [env.action_space(unitary_act) for unitary_act in unitary_action_list]\n",
    "\n",
    "# computing obs_target load flow with the effect of combined action: this is the ground truth to compare to\n",
    "\n",
    "combined_action = unitary_actions[0] + unitary_actions[1]\n",
    "obs_target = obs_start.simulate(combined_action, time_step=0)[0]"
   ]
  },
  {
   "cell_type": "code",
   "execution_count": null,
   "metadata": {},
   "outputs": [],
   "source": [
    "print(\"initial state with lines disconnected to reconnect\")\n",
    "fig = plot_helper.plot_obs(obs_start,line_info=\"p\")\n",
    "fig.show()"
   ]
  },
  {
   "cell_type": "code",
   "execution_count": null,
   "metadata": {},
   "outputs": [],
   "source": [
    "print(\"final state with lines reconnected\")\n",
    "fig = plot_helper.plot_obs(obs_target,line_info=\"p\")\n",
    "fig.show()"
   ]
  },
  {
   "cell_type": "markdown",
   "metadata": {},
   "source": [
    "\"All by hand\""
   ]
  },
  {
   "cell_type": "code",
   "execution_count": null,
   "metadata": {},
   "outputs": [],
   "source": [
    "from superposition_theorem.core.compute_power_flows import get_sub_node1_idsflow,get_virtual_line_flow\n",
    "# computing intermediate states in which we applied one unitary action\n",
    "\n",
    "obs1 = obs_start.simulate(unitary_actions[0], time_step=0)[0]\n",
    "obs2 = obs_start.simulate(unitary_actions[1], time_step=0)[0]\n",
    "\n",
    "(ind_load_node1_sub1, ind_prod_node1_sub1, ind_lor_node1_sub1, ind_lex_node1_sub1) = get_sub_node1_idsflow(obs1,\n",
    "                                                                                                           id_sub1)\n",
    "(ind_load_node1_sub2, ind_prod_node1_sub2, ind_lor_node1_sub2, ind_lex_node1_sub2) = get_sub_node1_idsflow(obs2,\n",
    "                                                                                                           id_sub2)\n",
    "\n",
    "# virtual line flows: this is not directly computed by the load flow solver.\n",
    "# you need to recover the ids of the element of one of the that will appear after splitting\n",
    "# and compute the imbalance of flows for these elements before the substation gets split:\n",
    "# this gives the equivalent of virtual line flows between the two nodes that will appear\n",
    "p_start_sub1 = get_virtual_line_flow(obs_start, ind_load_node1_sub1, ind_prod_node1_sub1, ind_lor_node1_sub1,\n",
    "                                     ind_lex_node1_sub1)\n",
    "p_start_sub2 = get_virtual_line_flow(obs_start, ind_load_node1_sub2, ind_prod_node1_sub2, ind_lor_node1_sub2,\n",
    "                                     ind_lex_node1_sub2)\n",
    "\n",
    "p_obs1_sub2 = get_virtual_line_flow(obs1, ind_load_node1_sub2, ind_prod_node1_sub2, ind_lor_node1_sub2,\n",
    "                                    ind_lex_node1_sub2)\n",
    "\n",
    "p_obs2_sub1 = get_virtual_line_flow(obs2, ind_load_node1_sub1, ind_prod_node1_sub1, ind_lor_node1_sub1,\n",
    "                                    ind_lex_node1_sub1)\n",
    "\n",
    "# solving the linear system by \"hand\" and computing the superposition\n",
    "a = np.array([[1, 1 - p_obs2_sub1 / p_start_sub1],\n",
    "              [1 - p_obs1_sub2 / p_start_sub2, 1]])\n",
    "\n",
    "b = np.ones(2)\n",
    "betas = np.linalg.solve(a, b)\n",
    "\n",
    "p_target_computed = betas[0] * obs1.p_or + betas[1] * obs2.p_or + (1 - betas.sum()) * obs_start.p_or\n",
    "assert (np.all((np.round(obs_target.p_or - p_target_computed,decimal_accuracy ) == 0.0)))\n",
    "\n",
    "print(p_target_computed)\n"
   ]
  },
  {
   "cell_type": "markdown",
   "metadata": {},
   "source": [
    "Or you could have directly computed the resulting flows with the superposition theorem\n"
   ]
  },
  {
   "cell_type": "code",
   "execution_count": null,
   "metadata": {},
   "outputs": [],
   "source": [
    "idls_subs=[id_sub1,id_sub2]\n",
    "idls_lines = []\n",
    "unit_act_observations = [obs1,obs2]\n",
    "\n",
    "p_or_combined_action = compute_flows_superposition_theorem_from_unit_act_obs(idls_lines,\n",
    "                                                                             idls_subs,\n",
    "                                                                             obs_start,\n",
    "                                                                             obs_target,\n",
    "                                                                             unit_act_observations)\n",
    "print(\"check target flows\")\n",
    "decimal_digit_precision = 4\n",
    "target_obs, *_ = obs_start.simulate(combined_action, time_step=0)\n",
    "print(target_obs.p_or)\n",
    "print(p_or_combined_action)\n",
    "assert (np.all((np.round(target_obs.p_or - p_or_combined_action, decimal_digit_precision) == 0.0)))\n",
    "print(f\"Max difference (MW): {np.max(np.abs(target_obs.p_or - p_or_combined_action))}\")"
   ]
  },
  {
   "cell_type": "markdown",
   "metadata": {},
   "source": [
    "## 2 node merging actions"
   ]
  },
  {
   "cell_type": "markdown",
   "metadata": {},
   "source": [
    "compute the beta coefficients, compared to what betas are expected in the case we already know the target flows"
   ]
  },
  {
   "cell_type": "code",
   "execution_count": null,
   "metadata": {},
   "outputs": [],
   "source": [
    "env.set_id(time_series_id)\n",
    "env.reset()\n",
    "\n",
    "id_sub1 = 5  \n",
    "id_sub2 = 4  \n",
    "\n",
    "unitary_action_list = [{'set_bus': {'substations_id': [(5, (1, 1, 1, 1, 1, 1, 1))]}},  # sub5\n",
    "                       {'set_bus': {'substations_id': [(4, (1, 1, 1, 1, 1))]}},  # sub4\n",
    "                       ]\n",
    "\n",
    "# need ooposite list of actions to start with an observation where those lines are disconnected\n",
    "opposite_action_list = [{'set_bus': {'substations_id': [(5, (1, 1, 2, 2, 1, 2, 2))]}},  # sub5\n",
    "                       {'set_bus': {'substations_id': [(4, (2, 1, 2, 1, 2))]}},  # sub4\n",
    "                       ]\n",
    "\n",
    "combined_opposite_action = env.action_space(opposite_action_list[0])+env.action_space(opposite_action_list[1])\n",
    "obs_start, *_  = env.step(combined_opposite_action)\n",
    "\n",
    "unitary_actions = [env.action_space(unitary_act) for unitary_act in unitary_action_list]\n",
    "\n",
    "# computing obs_target load flow with the effect of combined action: this is the ground truth to compare to\n",
    "\n",
    "combined_action = unitary_actions[0] + unitary_actions[1]\n",
    "obs_target = obs_start.simulate(combined_action, time_step=0)[0]\n",
    "\n"
   ]
  },
  {
   "cell_type": "code",
   "execution_count": null,
   "metadata": {},
   "outputs": [],
   "source": [
    "print(\"initial state with lines disconnected to reconnect\")\n",
    "fig = plot_helper.plot_obs(obs_start,line_info=\"p\")\n",
    "fig.show()"
   ]
  },
  {
   "cell_type": "code",
   "execution_count": null,
   "metadata": {},
   "outputs": [],
   "source": [
    "print(\"final state with lines reconnected\")\n",
    "fig = plot_helper.plot_obs(obs_target,line_info=\"p\")\n",
    "fig.show()"
   ]
  },
  {
   "cell_type": "markdown",
   "metadata": {},
   "source": [
    "\"All by hand\""
   ]
  },
  {
   "cell_type": "code",
   "execution_count": null,
   "metadata": {},
   "outputs": [],
   "source": [
    "from superposition_theorem.core.compute_power_flows import get_delta_theta_sub_2nodes\n",
    "# computing intermediate states in which we applied one unitary action\n",
    "\n",
    "obs1 = obs_start.simulate(unitary_actions[0], time_step=0)[0]\n",
    "obs2 = obs_start.simulate(unitary_actions[1], time_step=0)[0]\n",
    "\n",
    "# computing delta thetas at a substation between nodes split\n",
    "delta_theta_sub1_obs2 = get_delta_theta_sub_2nodes(obs2,id_sub1)\n",
    "delta_theta_sub1_obs_start = get_delta_theta_sub_2nodes(obs_start, id_sub1)\n",
    "\n",
    "delta_theta_sub2_obs1 = get_delta_theta_sub_2nodes(obs1,id_sub2)\n",
    "delta_theta_sub2_obs_start = get_delta_theta_sub_2nodes(obs_start, id_sub2)\n",
    "\n",
    "# solving the linear system by \"hand\" and computing the superposition\n",
    "a = np.array([[1, 1 - delta_theta_sub1_obs2 / delta_theta_sub1_obs_start],\n",
    "                      [1 - delta_theta_sub2_obs1 / delta_theta_sub2_obs_start, 1]])\n",
    "\n",
    "b = np.ones(2)\n",
    "betas = np.linalg.solve(a, b)\n",
    "\n",
    "p_target_computed = betas[0] * obs1.p_or + betas[1] * obs2.p_or + (1 - betas.sum()) * obs_start.p_or\n",
    "assert (np.all((np.round(obs_target.p_or - p_target_computed,decimal_accuracy ) == 0.0)))\n",
    "\n",
    "print(p_target_computed)\n"
   ]
  },
  {
   "cell_type": "markdown",
   "metadata": {},
   "source": [
    "Or you could have directly computed the resulting flows with the superposition theorem\n"
   ]
  },
  {
   "cell_type": "code",
   "execution_count": null,
   "metadata": {},
   "outputs": [],
   "source": [
    "idls_subs=[id_sub1, id_sub2]\n",
    "idls_lines = []\n",
    "unit_act_observations = [obs1,obs2]\n",
    "\n",
    "p_or_combined_action = compute_flows_superposition_theorem_from_unit_act_obs(idls_lines,\n",
    "                                                                             idls_subs,\n",
    "                                                                             obs_start,\n",
    "                                                                             obs_target,\n",
    "                                                                             unit_act_observations)\n",
    "print(\"check target flows\")\n",
    "decimal_digit_precision = 4\n",
    "target_obs, *_ = obs_start.simulate(combined_action, time_step=0)\n",
    "print(target_obs.p_or)\n",
    "print(p_or_combined_action)\n",
    "assert (np.all((np.round(target_obs.p_or - p_or_combined_action, decimal_digit_precision) == 0.0)))\n",
    "print(f\"Max difference (MW): {np.max(np.abs(target_obs.p_or - p_or_combined_action))}\")"
   ]
  },
  {
   "cell_type": "markdown",
   "metadata": {},
   "source": [
    "# Four action combination with all types"
   ]
  },
  {
   "cell_type": "markdown",
   "metadata": {},
   "source": [
    "Initial state starts with one substation with node splitting on which we apply merging, and one line disconnected that we will reconnect.\n",
    "\n",
    "Conversely we will split nodes at another substation and disconnect another line\n",
    "\n",
    "WARNING: be careful if you do a line action and substation action that belongs to the same substation, Grid2op might return that it is an ambiguous action and don't play them."
   ]
  },
  {
   "cell_type": "code",
   "execution_count": null,
   "metadata": {},
   "outputs": [],
   "source": [
    "env.set_id(time_series_id)\n",
    "env.reset()\n",
    "\n",
    "#be careful with ambiguous actions when combining actions on lines and substations such as\n",
    "#Grid2OpException AmbiguousAction InvalidLineStatus InvalidLineStatus('You ask to disconnect a powerline but also to connect it to a certain bus.')\n",
    "\n",
    "id_l1 = 3  # 1#2#3\n",
    "id_l2 = 2  # 2#4#7\n",
    "id_sub1 = 5\n",
    "id_sub2 = 4\n",
    "idls_lines = [id_l1, id_l2]\n",
    "idls_subs = [id_sub1, id_sub2]\n",
    "\n",
    "unitary_action_list = [{\"set_line_status\": [(id_l1, +1)]},  # reconnection\n",
    "                       {\"set_line_status\": [(id_l2, -1)]}, # disconnection\n",
    "                       {'set_bus': {'substations_id': [(5, (1, 1, 1, 1, 1, 1, 1))]}},  # merging\n",
    "                       {'set_bus': {'substations_id': [(4, (2, 1, 2, 1, 2))]}},  # splitting\n",
    "                       ]\n",
    "\n",
    "# need ooposite list of actions to start with an observation where those lines are disconnected\n",
    "opposite_action_list = [{\"set_line_status\": [(id_l1, -1)]},\n",
    "                        {\"set_line_status\": [(id_l2, +1)]},\n",
    "                        {'set_bus': {'substations_id': [(5, (1, 1, 2, 2, 1, 2, 2))]}},\n",
    "                        {'set_bus': {'substations_id': [(4, (1, 1, 1, 1, 1))]}},\n",
    "                        ]\n",
    "\n",
    "combined_opposite_action=env.action_space({})\n",
    "for unit_act in opposite_action_list:\n",
    "    combined_opposite_action+=env.action_space(unit_act)\n",
    "obs_start, *_ = env.step(combined_opposite_action)\n",
    "\n",
    "unitary_actions = [env.action_space(unitary_act) for unitary_act in unitary_action_list]\n",
    "\n",
    "# computing obs_target load flow with the effect of combined action: this is the ground truth to compare to\n",
    "\n",
    "n_actions = len(unitary_actions)\n",
    "combined_action = unitary_actions[0]\n",
    "for i in range(1, n_actions):\n",
    "    combined_action += unitary_actions[i]\n",
    "obs_target, *_ = obs_start.simulate(combined_action, time_step=0)"
   ]
  },
  {
   "cell_type": "code",
   "execution_count": null,
   "metadata": {},
   "outputs": [],
   "source": [
    "print(\"initial state with lines disconnected to reconnect\")\n",
    "fig = plot_helper.plot_obs(obs_start,line_info=\"p\")\n",
    "fig.show()"
   ]
  },
  {
   "cell_type": "code",
   "execution_count": null,
   "metadata": {},
   "outputs": [],
   "source": [
    "print(\"final state with lines reconnected\")\n",
    "fig = plot_helper.plot_obs(obs_target,line_info=\"p\")\n",
    "fig.show()"
   ]
  },
  {
   "cell_type": "code",
   "execution_count": null,
   "metadata": {},
   "outputs": [],
   "source": [
    "unitary_actions = [env.action_space(unitary_act) for unitary_act in unitary_action_list]\n",
    "\n",
    "\n",
    "# running superposition theorem function\n",
    "unit_act_observations = [obs_start.simulate(action, time_step=0)[0] for action in unitary_actions]\n",
    "\n",
    "\n",
    "p_or_combined_action = compute_flows_superposition_theorem_from_unit_act_obs(idls_lines,\n",
    "                                                                             idls_subs,\n",
    "                                                                             obs_start,\n",
    "                                                                             target_obs=None,\n",
    "                                                                             unit_act_observations = unit_act_observations\n",
    "                                                                             )\n",
    "\n",
    "print(\"check target flows\")\n",
    "decimal_digit_precision = 4\n",
    "target_obs, *_ = obs_start.simulate(combined_action, time_step=0)\n",
    "print(target_obs.p_or)\n",
    "print(p_or_combined_action)\n",
    "assert (np.all((np.round(target_obs.p_or - p_or_combined_action, decimal_digit_precision) == 0.0)))\n",
    "print(f\"Max difference (MW): {np.max(np.abs(target_obs.p_or - p_or_combined_action))}\")\n"
   ]
  }
 ],
 "metadata": {
  "kernelspec": {
   "display_name": "Python 3",
   "language": "python",
   "name": "python3"
  },
  "language_info": {
   "codemirror_mode": {
    "name": "ipython",
    "version": 3
   },
   "file_extension": ".py",
   "mimetype": "text/x-python",
   "name": "python",
   "nbconvert_exporter": "python",
   "pygments_lexer": "ipython3",
   "version": "3.8.10"
  },
  "toc": {
   "base_numbering": 1,
   "nav_menu": {},
   "number_sections": true,
   "sideBar": true,
   "skip_h1_title": false,
   "title_cell": "Table of Contents",
   "title_sidebar": "Contents",
   "toc_cell": true,
   "toc_position": {},
   "toc_section_display": true,
   "toc_window_display": false
  }
 },
 "nbformat": 4,
 "nbformat_minor": 5
}
