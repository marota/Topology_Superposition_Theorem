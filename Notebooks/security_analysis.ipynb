{
 "cells": [
  {
   "cell_type": "code",
   "execution_count": null,
   "metadata": {},
   "outputs": [],
   "source": [
    "import warnings\n",
    "import numpy as np\n",
    "from tqdm.notebook import tqdm\n",
    "from tabulate import tabulate\n",
    "from lightsim2grid.solver import SolverType\n",
    "from lightsim2grid.securityAnalysis import SecurityAnalysisCPP\n",
    "from lightsim2grid.gridmodel import init\n",
    "import time\n",
    "import pandapower as pp\n",
    "import pandapower.networks as pn\n",
    "import plotly.graph_objects as go\n",
    "# ordered per number of branches\n",
    "case_names = [\"case14\", \"case118\", \"case_illinois200\", \"case300\", \"case1354pegase\",\n",
    "              \"case1888rte\", \"GBnetwork\", \"case3120sp\", \"case2848rte\", \"case2869pegase\", \n",
    "            #   \"case6495rte\", \"case6515rte\", \"case9241pegase\"\n",
    "             ]"
   ]
  },
  {
   "cell_type": "code",
   "execution_count": null,
   "metadata": {},
   "outputs": [],
   "source": [
    "def compute_lightsim2grid(case):\n",
    "    \"\"\"compute the full security analysis using lightsim2grid\"\"\"\n",
    "    with warnings.catch_warnings():\n",
    "        warnings.filterwarnings(\"ignore\")\n",
    "        gridmodel = init(case)\n",
    "    # perform the action\n",
    "    # .XXX(blablabla)\n",
    "    \n",
    "    # start the initial computation\n",
    "    V = gridmodel.dc_pf(1.04 * np.ones(case.bus.shape[0], dtype=np.complex128), 10, 1e-7)\n",
    "    if not V.shape:\n",
    "        # ac pf has diverged\n",
    "        warnings.warn(f\"Impossible to compute the security analysis for {case_nm}: divergence\")\n",
    "    \n",
    "    # initial the model\n",
    "    sec_analysis = SecurityAnalysisCPP(gridmodel)\n",
    "    sec_analysis.change_solver(SolverType.KLUDC)\n",
    "    for branch_id in range(len(gridmodel.get_lines()) + len(gridmodel.get_trafos())):\n",
    "        sec_analysis.add_n1(branch_id)\n",
    "    \n",
    "    # now do the security analysis\n",
    "    beg = time.perf_counter()\n",
    "    sec_analysis.compute(V, 10, 1e-7)\n",
    "    vs_sa = sec_analysis.get_voltages()\n",
    "    mw_sa = sec_analysis.compute_power_flows()\n",
    "    tot_time = time.perf_counter() - beg\n",
    "    return tot_time, sec_analysis.nb_solved()\n",
    "    "
   ]
  },
  {
   "cell_type": "code",
   "execution_count": null,
   "metadata": {},
   "outputs": [],
   "source": [
    "def compute_pandapower(case):\n",
    "    pp.rundcpp(case)  # run initial powerflow\n",
    "    \n",
    "    nb_cont = 0\n",
    "    tot_time = 0.\n",
    "    # now do the security analysis\n",
    "    for branch_id in range(case.line.shape[0]):\n",
    "        beg = time.perf_counter()\n",
    "        case.line[\"in_service\"].iloc[branch_id] = False\n",
    "        pp.rundcpp(case)\n",
    "        if case[\"_ppc\"][\"success\"]:\n",
    "            tot_time += time.perf_counter() - beg\n",
    "            nb_cont += 1\n",
    "        case.line[\"in_service\"].iloc[branch_id] = True\n",
    "        \n",
    "    for branch_id in range(case.trafo.shape[0]):\n",
    "        beg = time.perf_counter()\n",
    "        case.trafo[\"in_service\"].iloc[branch_id]= False\n",
    "        pp.rundcpp(case)\n",
    "        if case[\"_ppc\"][\"success\"]:\n",
    "            tot_time += time.perf_counter() - beg\n",
    "            nb_cont += 1\n",
    "        case.trafo[\"in_service\"].iloc[branch_id] = True\n",
    "    return tot_time, nb_cont"
   ]
  },
  {
   "cell_type": "code",
   "execution_count": null,
   "metadata": {},
   "outputs": [],
   "source": [
    "res_table = []\n",
    "res_per_cont = []\n",
    "nb_branch = []\n",
    "for case_nm in tqdm(case_names):\n",
    "    this_row = [case_nm, None, None, None]  # total time\n",
    "    this_row_per_cont = [case_nm, None, None, None]  # time for a single contingency\n",
    "    \n",
    "    # retrieve the case file from pandapower\n",
    "    case = getattr(pn, case_nm)()\n",
    "    nb_branch.append(case.line.shape[0] + case.trafo.shape[0])\n",
    "    \n",
    "    # use lightsim2grid\n",
    "    total_time, nb_cont = compute_lightsim2grid(case)\n",
    "    this_row[2] = total_time\n",
    "    this_row_per_cont[2] = total_time / nb_cont\n",
    "    ##### end lightsim2grid\n",
    "    \n",
    "    # use pandapower\n",
    "    total_time, nb_cont = compute_pandapower(case)\n",
    "    this_row[3] = total_time\n",
    "    this_row_per_cont[3] = total_time / nb_cont\n",
    "    ##### end pandapower\n",
    "    \n",
    "    res_table.append(this_row)\n",
    "    res_per_cont.append(this_row_per_cont)"
   ]
  },
  {
   "cell_type": "code",
   "execution_count": null,
   "metadata": {},
   "outputs": [],
   "source": [
    "print(tabulate(res_table, headers=[\"Grid\", \"Ext ST\", \"lightsim2grid\", \"pandapower\"], floatfmt=\".2e\"))"
   ]
  },
  {
   "cell_type": "code",
   "execution_count": null,
   "metadata": {},
   "outputs": [],
   "source": [
    "print(tabulate(res_per_cont, headers=[\"Grid\", \"Ext ST\", \"lightsim2grid\", \"pandapower\"], floatfmt=\".2e\"))"
   ]
  },
  {
   "cell_type": "code",
   "execution_count": null,
   "metadata": {},
   "outputs": [],
   "source": [
    "print(tabulate(res_table, headers=[\"Grid\", \"Ext ST\", \"lightsim2grid\", \"pandapower\"], tablefmt=\"latex\", floatfmt=\".2e\"))"
   ]
  },
  {
   "cell_type": "code",
   "execution_count": null,
   "metadata": {},
   "outputs": [],
   "source": [
    "fig = go.Figure()\n",
    "fig.add_trace(go.Line(x=nb_branch, y=[el[2] for el in res_table], name=\"lightsim2grid\"))\n",
    "fig.add_trace(go.Line(x=nb_branch, y=[el[3] for el in res_table], name=\"pandapower\"))\n",
    "# fig.add_trace(go.Line(x=nb_branch, y=nb_branch))\n",
    "fig.update_xaxes(title_text=\"Grid size (number of branch)\")\n",
    "fig.update_yaxes(title_text=\"Computation time (s)\")\n",
    "fig.update_yaxes(type=\"log\")\n",
    "fig"
   ]
  },
  {
   "cell_type": "code",
   "execution_count": null,
   "metadata": {},
   "outputs": [],
   "source": [
    "fig = go.Figure()\n",
    "fig.add_trace(go.Line(x=nb_branch, y=[el[2] for el in res_per_cont], name=\"lightsim2grid\"))\n",
    "fig.add_trace(go.Line(x=nb_branch, y=[el[3] for el in res_per_cont], name=\"pandapower\"))\n",
    "# fig.add_trace(go.Line(x=nb_branch, y=nb_branch, name=\"test\"))\n",
    "fig.update_xaxes(title_text=\"Grid size (number of branch)\")\n",
    "fig.update_yaxes(title_text=\"Computation time per cont. (s) [log scale]\")\n",
    "fig.update_yaxes(type=\"log\")\n",
    "fig"
   ]
  }
 ],
 "metadata": {
  "kernelspec": {
   "display_name": "Python 3",
   "language": "python",
   "name": "python3"
  },
  "language_info": {
   "codemirror_mode": {
    "name": "ipython",
    "version": 3
   },
   "file_extension": ".py",
   "mimetype": "text/x-python",
   "name": "python",
   "nbconvert_exporter": "python",
   "pygments_lexer": "ipython3",
   "version": "3.8.10"
  },
  "orig_nbformat": 4
 },
 "nbformat": 4,
 "nbformat_minor": 2
}
