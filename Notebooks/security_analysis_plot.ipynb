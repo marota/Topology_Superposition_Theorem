{
 "cells": [
  {
   "cell_type": "code",
   "execution_count": null,
   "id": "ef5e8155",
   "metadata": {},
   "outputs": [],
   "source": [
    "import pickle\n",
    "import plotly.graph_objects as go  # plotting\n",
    "from tabulate import tabulate\n",
    "import numpy as np"
   ]
  },
  {
   "cell_type": "code",
   "execution_count": null,
   "id": "d6a9f6b0",
   "metadata": {},
   "outputs": [],
   "source": [
    "with open(\"computation_times.pickle\", \"rb\") as f:\n",
    "    headers, res_table, res_per_cont, nb_branch = pickle.load(file=f)"
   ]
  },
  {
   "cell_type": "markdown",
   "id": "753a2540",
   "metadata": {},
   "source": [
    "Results, for each grid size simulate, in total time (lower is better)"
   ]
  },
  {
   "cell_type": "code",
   "execution_count": null,
   "id": "437c1df1",
   "metadata": {},
   "outputs": [],
   "source": [
    "print(tabulate(res_table,\n",
    "               headers=headers,\n",
    "               floatfmt=\".2e\"))"
   ]
  },
  {
   "cell_type": "code",
   "execution_count": null,
   "id": "4ec26203",
   "metadata": {},
   "outputs": [],
   "source": [
    "print(tabulate(res_table, headers=headers, tablefmt=\"latex\", floatfmt=\".2e\"))"
   ]
  },
  {
   "cell_type": "markdown",
   "id": "3c1c40fb",
   "metadata": {},
   "source": [
    "Results, for each grid size, in time per contingency (lower is better)"
   ]
  },
  {
   "cell_type": "code",
   "execution_count": null,
   "id": "08e89c65",
   "metadata": {},
   "outputs": [],
   "source": [
    "print(tabulate(res_per_cont,\n",
    "               headers=headers,\n",
    "               floatfmt=\".2e\"))"
   ]
  },
  {
   "cell_type": "code",
   "execution_count": null,
   "id": "65b67778",
   "metadata": {},
   "outputs": [],
   "source": [
    "print(tabulate(res_per_cont, headers=headers, tablefmt=\"latex\", floatfmt=\".2e\"))"
   ]
  },
  {
   "cell_type": "markdown",
   "id": "4851476d",
   "metadata": {},
   "source": [
    "Results as a graph (total time)"
   ]
  },
  {
   "cell_type": "code",
   "execution_count": null,
   "id": "1147673b",
   "metadata": {},
   "outputs": [],
   "source": [
    "fig = go.Figure()\n",
    "fig.add_trace(go.Line(x=nb_branch, y=[el[1] for el in res_table], name=\"extended ST\"))\n",
    "fig.add_trace(go.Line(x=nb_branch, y=[el[2] for el in res_table], name=\"lightsim2grid (DC)\"))\n",
    "fig.add_trace(go.Line(x=nb_branch, y=[el[3] for el in res_table], name=\"lightsim2grid (DC - LODF)\"))\n",
    "fig.add_trace(go.Line(x=nb_branch, y=[el[4] for el in res_table], name=\"pandapower\"))\n",
    "fig.add_trace(go.Line(x=nb_branch, y=[el[5] for el in res_table], name=\"lightsim2grid (AC)\"))\n",
    "fig.add_trace(go.Line(x=nb_branch, y=[el[6] for el in res_table], name=\"pypowsybl (DC)\"))\n",
    "fig.add_trace(go.Line(x=nb_branch, y=[el[7] for el in res_table], name=\"pypowsybl (AC)\"))\n",
    "# fig.add_trace(go.Line(x=nb_branch, y=nb_branch))\n",
    "fig.update_xaxes(title_text=\"Grid size (number of branch)\")\n",
    "fig.update_yaxes(title_text=\"Computation time (s) [log scale]\")\n",
    "fig.update_yaxes(type=\"log\")\n",
    "fig"
   ]
  },
  {
   "cell_type": "markdown",
   "id": "68563d6c",
   "metadata": {},
   "source": [
    "Results as graph (time per contingency)"
   ]
  },
  {
   "cell_type": "code",
   "execution_count": null,
   "id": "5b0223a2",
   "metadata": {},
   "outputs": [],
   "source": [
    "fig = go.Figure()\n",
    "fig.add_trace(go.Line(x=nb_branch, y=[el[1] for el in res_per_cont], name=\"extended ST\"))\n",
    "fig.add_trace(go.Line(x=nb_branch, y=[el[2] for el in res_per_cont], name=\"lightsim2grid (DC)\"))\n",
    "fig.add_trace(go.Line(x=nb_branch, y=[el[3] for el in res_per_cont], name=\"lightsim2grid (DC - LODF)\"))\n",
    "fig.add_trace(go.Line(x=nb_branch, y=[el[4] for el in res_per_cont], name=\"pandapower\"))\n",
    "fig.add_trace(go.Line(x=nb_branch, y=[el[5] for el in res_per_cont], name=\"lightsim2grid (AC)\"))\n",
    "fig.add_trace(go.Line(x=nb_branch, y=[el[6] for el in res_per_cont], name=\"pypowsybl (DC)\"))\n",
    "fig.add_trace(go.Line(x=nb_branch, y=[el[7] for el in res_per_cont], name=\"pypowsybl (AC)\"))\n",
    "# fig.add_trace(go.Line(x=nb_branch, y=nb_branch, name=\"test\"))\n",
    "fig.update_xaxes(title_text=\"Grid size (number of branch)\")\n",
    "fig.update_yaxes(title_text=\"Computation time per cont. (s) [log scale]\")\n",
    "fig.update_yaxes(type=\"log\")\n",
    "fig"
   ]
  },
  {
   "cell_type": "markdown",
   "id": "cdc58d67",
   "metadata": {},
   "source": [
    "Results as graph (speed-up compared with Extended superposition theorem)"
   ]
  },
  {
   "cell_type": "code",
   "execution_count": null,
   "id": "d8232426",
   "metadata": {},
   "outputs": [],
   "source": [
    "def get_speedup(res_table, id_, ext_st):\n",
    "    tmp = np.array([el[id_] for el in res_table])\n",
    "    res = [tm / st if tm is not None else None for tm, st in zip(tmp, ext_st)]\n",
    "    return res\n",
    "\n",
    "fig = go.Figure()\n",
    "ext_st = np.array([el[1] for el in res_table])\n",
    "fig.add_trace(go.Line(x=nb_branch, y=np.ones(len(res_per_cont)), name=\"vs extended ST\"))\n",
    "fig.add_trace(go.Line(x=nb_branch, y=get_speedup(res_table, 2, ext_st), name=\"vs lightsim2grid (DC)\"))\n",
    "fig.add_trace(go.Line(x=nb_branch, y=get_speedup(res_table, 3, ext_st), name=\"vs lightsim2grid (DC - LODF)\"))\n",
    "fig.add_trace(go.Line(x=nb_branch, y=get_speedup(res_table, 6, ext_st), name=\"vs pypowsybl (DC)\"))\n",
    "fig.update_xaxes(title_text=\"Grid size (number of branch)\")\n",
    "fig.update_yaxes(title_text=\"Ext. ST speed up [log scale]\")\n",
    "fig.update_yaxes(type=\"log\")\n",
    "fig"
   ]
  }
 ],
 "metadata": {
  "kernelspec": {
   "display_name": "venv",
   "language": "python",
   "name": "python3"
  },
  "language_info": {
   "codemirror_mode": {
    "name": "ipython",
    "version": 3
   },
   "file_extension": ".py",
   "mimetype": "text/x-python",
   "name": "python",
   "nbconvert_exporter": "python",
   "pygments_lexer": "ipython3",
   "version": "3.12.8"
  }
 },
 "nbformat": 4,
 "nbformat_minor": 5
}
