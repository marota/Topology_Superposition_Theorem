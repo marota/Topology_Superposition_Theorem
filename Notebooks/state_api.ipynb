{
 "cells": [
  {
   "cell_type": "code",
   "execution_count": null,
   "metadata": {},
   "outputs": [],
   "source": [
    "import grid2op\n",
    "import numpy as np\n",
    "\n",
    "from superposition_theorem import State\n",
    "\n",
    "env = grid2op.make(\"l2rpn_case14_sandbox\")\n",
    "param = env.parameters\n",
    "param.ENV_DC = True  # force the computation of the powerflow in DC mode\n",
    "param.MAX_LINE_STATUS_CHANGED = 99999\n",
    "param.MAX_SUB_CHANGED = 99999\n",
    "param.NO_OVERFLOW_DISCONNECTION = True\n",
    "\n",
    "env.change_parameters(param)\n",
    "env.change_forecast_parameters(param)"
   ]
  },
  {
   "cell_type": "markdown",
   "metadata": {},
   "source": [
    "# Line disconnection\n",
    "\n",
    "Here we use the \"State\" interface to compute the disconnection (at its creation) and then we can see the results of each n-k (which are a lot)\n",
    "\n",
    "First, let's initialize the \"State\" with the unary line disconnections we want to combine"
   ]
  },
  {
   "cell_type": "code",
   "execution_count": null,
   "metadata": {},
   "outputs": [],
   "source": [
    "obs = env.reset()\n",
    "state = State.from_grid2op_obs(obs, line_ids_disc_unary=(1, 2, 3, 4, 7))"
   ]
  },
  {
   "cell_type": "markdown",
   "metadata": {},
   "source": [
    "And now we can compute the flows after the disconnection of 2 powerlines (for example): "
   ]
  },
  {
   "cell_type": "code",
   "execution_count": null,
   "metadata": {},
   "outputs": [],
   "source": [
    "p_or_12 = state.compute_flows_disco_lines((1, 2))"
   ]
  },
  {
   "cell_type": "markdown",
   "metadata": {},
   "source": [
    "And now we can check the results compared to using a real simulator:"
   ]
  },
  {
   "cell_type": "code",
   "execution_count": null,
   "metadata": {},
   "outputs": [],
   "source": [
    "obs_true, *_ = obs.simulate(env.action_space({\"set_bus\": {\"lines_or_id\": [(1, -1), (2, -1)]}}), time_step=0)\n",
    "por_true = obs_true.p_or\n",
    "print(f\"Max difference: {np.abs(p_or_12 - por_true).max():.2e} MW\")"
   ]
  },
  {
   "cell_type": "markdown",
   "metadata": {},
   "source": [
    "# Line reconnection\n",
    "\n",
    "In this second part, we show how we could reconnect powerline. For this, we first generate a grid state with some line disconnected (1 and 2 for the example) and then see how we can leverage the superposition theorem to reconnect it."
   ]
  },
  {
   "cell_type": "code",
   "execution_count": null,
   "metadata": {},
   "outputs": [],
   "source": [
    "obs = env.reset()\n",
    "start_obs, *_  = env.step(env.action_space({\"set_bus\": {\"lines_or_id\": [(1, -1), (2, -1)]}}))\n",
    "state = State.from_grid2op_obs(start_obs, line_ids_reco_unary=(1, 2))"
   ]
  },
  {
   "cell_type": "markdown",
   "metadata": {},
   "source": [
    "Now we can reconnect these powerlines using the superposition theorem:"
   ]
  },
  {
   "cell_type": "code",
   "execution_count": null,
   "metadata": {},
   "outputs": [],
   "source": [
    "p_or_12 = state.compute_flows_reco_lines((1, 2))"
   ]
  },
  {
   "cell_type": "markdown",
   "metadata": {},
   "source": [
    "And finally, we can check the results"
   ]
  },
  {
   "cell_type": "code",
   "execution_count": null,
   "metadata": {},
   "outputs": [],
   "source": [
    "obs_true, *_ = start_obs.simulate(env.action_space({\"set_bus\": {\"lines_or_id\": [(1, 1), (2, 1)]}}), time_step=0)\n",
    "por_true = obs_true.p_or\n",
    "print(f\"Max difference: {np.abs(p_or_12 - por_true).max():.2e} MW\")"
   ]
  },
  {
   "cell_type": "markdown",
   "metadata": {},
   "source": [
    "# Topology modification (node splitting)\n",
    "\n",
    "In this section we demonstrate how to use the \"State\" api to perform topological modifications using the extended superposition theorem"
   ]
  },
  {
   "cell_type": "code",
   "execution_count": null,
   "metadata": {},
   "outputs": [],
   "source": [
    "start_obs = env.reset()\n",
    "\n",
    "state = State.from_grid2op_obs(start_obs)"
   ]
  },
  {
   "cell_type": "markdown",
   "metadata": {},
   "source": [
    "Then I build the action (which is a more complicated process, this is why we first build a \"state\" without any single actions, and then rebuild a state afterwards)\n",
    "\n",
    "The first action is:"
   ]
  },
  {
   "cell_type": "code",
   "execution_count": null,
   "metadata": {},
   "outputs": [],
   "source": [
    "# first unary action\n",
    "id_sub1 = 5\n",
    "act1 = state.get_emptyact()\n",
    "act1.set_subid(id_sub1)\n",
    "# act1.get_elem_sub()  # to know which elements are connected to this substation\n",
    "act1.set_bus(lines_id=[(7, 1), (8, 1), (9, 2), (17, 2)],\n",
    "             loads_id=[(4, 2)],\n",
    "             gens_id=[(2, 1), (3, 2)])\n",
    "\n",
    "# second unary action\n",
    "id_sub2 = 4\n",
    "act2 = state.get_emptyact()\n",
    "act2.set_subid(id_sub2)\n",
    "# act2.get_elem_sub()  # to know which elements are connected to this substation\n",
    "act2.set_bus(lines_id=[(1, 2), (4, 1), (6, 2), (17, 1)],\n",
    "             loads_id=[(3, 2)])"
   ]
  },
  {
   "cell_type": "markdown",
   "metadata": {},
   "source": [
    "Then we can compute the state with both unary actions :"
   ]
  },
  {
   "cell_type": "code",
   "execution_count": null,
   "metadata": {},
   "outputs": [],
   "source": [
    "state.add_unary_actions_grid2op(start_obs, subs_actions_unary=[act1, act2])"
   ]
  },
  {
   "cell_type": "code",
   "execution_count": null,
   "metadata": {},
   "outputs": [],
   "source": [
    "p_or_sub1sub2 = state.compute_flows_node_split((act1, act2))"
   ]
  },
  {
   "cell_type": "markdown",
   "metadata": {},
   "source": [
    "And finally we can check the consistency of the results:"
   ]
  },
  {
   "cell_type": "code",
   "execution_count": null,
   "metadata": {},
   "outputs": [],
   "source": [
    "obs_true, *_ = start_obs.simulate(act1.to_grid2op(env.action_space) + act2.to_grid2op(env.action_space), time_step=0)\n",
    "por_true = obs_true.p_or\n",
    "print(f\"Max difference: {np.abs(p_or_sub1sub2 - por_true).max():.2e} MW\")"
   ]
  },
  {
   "cell_type": "markdown",
   "metadata": {},
   "source": [
    "# Curative action checking\n",
    "\n",
    "In power grid real time operations, often dispatchers check whether or not a given possible actions will lead to improved safety. To do so they run \"security analysis\" and check whether the grid will be N-1 safe (*ie* still safe after the disconnection of any powerline / transformer).\n",
    "\n",
    "This requires a lot of computation as this assessment  the computation of lots of powerflow (one per powerline). With the extended superposition theorem, this can be done pretty easily. However, with the extended superposition theorem this computations can be drastically accelerated as it can reuse the computations of the base case (N-1 without action) and only requires the full computation of the outcome of the tested action (and the solving of a 2x2 linear system) [more information about the speed ups are shown in the paper].\n",
    "\n",
    "Here we show the results of the extended superposition theorem match the result of the simulator.\n",
    "\n",
    "First let's create the \"State\" that represents the initial known information: all simulation for all contingencies and the action we want to test."
   ]
  },
  {
   "cell_type": "code",
   "execution_count": null,
   "metadata": {},
   "outputs": [],
   "source": [
    "start_obs = env.reset()\n",
    "\n",
    "\n",
    "state = State.from_grid2op_obs(start_obs,\n",
    "                               line_ids_disc_unary=tuple(range(env.n_line)),\n",
    "                               when_error=\"warn\"\n",
    "                               )\n",
    "\n",
    "# create a \"random\" action that will be tested\n",
    "act_tested = state.get_emptyact()\n",
    "act_tested.set_subid(id_sub1)\n",
    "act_tested.set_bus(lines_id=[(7, 1), (8, 1), (9, 2), (17, 2)],\n",
    "                   loads_id=[(4, 2)],\n",
    "                   gens_id=[(2, 1), (3, 2)])\n",
    "state.add_unary_actions_grid2op(start_obs, subs_actions_unary=(act_tested, ))"
   ]
  },
  {
   "cell_type": "markdown",
   "metadata": {},
   "source": [
    "Then we can easily run the security analysis with the State API as followed (NB if a contingency makes the grid non connex then it is not computed here and results will be np.Nan in the res matrices) :"
   ]
  },
  {
   "cell_type": "code",
   "execution_count": null,
   "metadata": {},
   "outputs": [],
   "source": [
    "res_sa, total_time, nb_cont  = state.compute_flows_n1(subs_actions=[act_tested],\n",
    "                                                      line_ids=tuple(range(env.n_line)))"
   ]
  },
  {
   "cell_type": "markdown",
   "metadata": {},
   "source": [
    "And now we can check that the results are consistent with the proper powerflow simulation:"
   ]
  },
  {
   "cell_type": "code",
   "execution_count": null,
   "metadata": {},
   "outputs": [],
   "source": [
    "overall_max = 0.\n",
    "for l_id in range(env.n_line):\n",
    "    act_g2op = act_tested.to_grid2op(env.action_space)\n",
    "    act_g2op._set_topo_vect[env.line_or_pos_topo_vect[l_id]] = -1\n",
    "    act_g2op._set_topo_vect[env.line_ex_pos_topo_vect[l_id]] = -1\n",
    "    sim_obs, r, done, info = start_obs.simulate(act_g2op, time_step=0)\n",
    "    if not done:\n",
    "        # grid is still connected after action AND contingency\n",
    "        this_error = np.abs(res_sa[l_id] - sim_obs.p_or).max()\n",
    "        overall_max = max(overall_max, this_error)\n",
    "        # print(f\"Max difference for contingency {l_id}: {this_error:.2e} MW\")  # uncomment this line for detailed output\n",
    "    else:\n",
    "        # grid is not connected\n",
    "        # print(f\"Grid is not connected after contingency {l_id}\")  # uncomment this line for detailed output\n",
    "        pass\n",
    "print(f\"Max difference for all contingencies: {overall_max:.2e} MW\")"
   ]
  },
  {
   "cell_type": "markdown",
   "metadata": {},
   "source": [
    "# Combination of different action types (ex. line disconnection and topology)\n",
    "\n",
    "In this section we show how to use the \"state\" api to combine unary action of different types (for example line disconenction and topology). We will reuse the same kind of action as the one showed in the above sections.\n",
    "\n",
    "TODO section in progress !"
   ]
  },
  {
   "cell_type": "code",
   "execution_count": null,
   "metadata": {},
   "outputs": [],
   "source": [
    "start_obs = env.reset()\n",
    "\n",
    "state = State.from_grid2op_obs(start_obs,\n",
    "                               line_ids_disc_unary=(2, 3),\n",
    "                               subs_actions_unary=[act1, act2])\n"
   ]
  },
  {
   "cell_type": "code",
   "execution_count": null,
   "metadata": {},
   "outputs": [],
   "source": [
    "p_or_combined = state.compute_flows(line_ids_disc=(2, 3), subs_actions=[act1, act2])"
   ]
  },
  {
   "cell_type": "code",
   "execution_count": null,
   "metadata": {},
   "outputs": [],
   "source": [
    "combined_act = act1.to_grid2op(env.action_space) + act2.to_grid2op(env.action_space)\n",
    "combined_act += env.action_space({\"set_line_status\": [(2, -1), (3, -1)]})\n",
    "obs_true, r, done, info = start_obs.simulate(combined_act, time_step=0)\n",
    "assert not info[\"exception\"], f'Error while performing the powerflow check: {info[\"exception\"]}'\n",
    "por_true = obs_true.p_or\n",
    "print(f\"Max difference: {np.abs(p_or_combined - por_true).max():.2e} MW\")"
   ]
  },
  {
   "cell_type": "code",
   "execution_count": null,
   "metadata": {},
   "outputs": [],
   "source": [
    "p_or_combined"
   ]
  }
 ],
 "metadata": {
  "kernelspec": {
   "display_name": "Python 3 (ipykernel)",
   "language": "python",
   "name": "python3"
  },
  "language_info": {
   "codemirror_mode": {
    "name": "ipython",
    "version": 3
   },
   "file_extension": ".py",
   "mimetype": "text/x-python",
   "name": "python",
   "nbconvert_exporter": "python",
   "pygments_lexer": "ipython3",
   "version": "3.8.10"
  }
 },
 "nbformat": 4,
 "nbformat_minor": 4
}
