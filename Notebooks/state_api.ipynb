{
 "cells": [
  {
   "cell_type": "code",
   "execution_count": null,
   "metadata": {},
   "outputs": [],
   "source": [
    "import grid2op\n",
    "import numpy as np\n",
    "\n",
    "from superposition_theorem import State\n",
    "\n",
    "env = grid2op.make(\"l2rpn_case14_sandbox\")\n",
    "param = env.parameters\n",
    "param.ENV_DC = True  # force the computation of the powerflow in DC mode\n",
    "param.MAX_LINE_STATUS_CHANGED = 99999\n",
    "param.MAX_SUB_CHANGED = 99999\n",
    "param.NO_OVERFLOW_DISCONNECTION = True\n",
    "env.change_parameters(param)\n",
    "env.change_forecast_parameters(param)"
   ]
  },
  {
   "cell_type": "markdown",
   "metadata": {},
   "source": [
    "# Line disconnection\n",
    "\n",
    "Here we use the \"State\" interface to compute the disconnection (at its creation) and then we can see the results of each n-k (which are a lot)\n",
    "\n",
    "First, let's initialize the \"State\" with the unary line disconnections we want to combine"
   ]
  },
  {
   "cell_type": "code",
   "execution_count": null,
   "metadata": {},
   "outputs": [],
   "source": [
    "obs = env.reset()\n",
    "state = State.from_grid2op_obs(obs, line_ids_disc_unary=(1, 2, 3, 4, 7))"
   ]
  },
  {
   "cell_type": "markdown",
   "metadata": {},
   "source": [
    "And now we can compute the flows after the disconnection of 2 powerlines (for example): "
   ]
  },
  {
   "cell_type": "code",
   "execution_count": null,
   "metadata": {},
   "outputs": [],
   "source": [
    "p_or_12 = state.compute_flows_disco_lines((1, 2))"
   ]
  },
  {
   "cell_type": "markdown",
   "metadata": {},
   "source": [
    "And now we can check the results compared to using a real simulator:"
   ]
  },
  {
   "cell_type": "code",
   "execution_count": null,
   "metadata": {},
   "outputs": [],
   "source": [
    "obs_true, *_ = obs.simulate(env.action_space({\"set_bus\": {\"lines_or_id\": [(1, -1), (2, -1)]}}), time_step=0)\n",
    "por_true = obs_true.p_or\n",
    "print(f\"Max difference: {np.abs(p_or_12 - por_true).max():.2e} MW\")"
   ]
  },
  {
   "cell_type": "markdown",
   "metadata": {},
   "source": [
    "# Line reconnection\n",
    "\n",
    "In this second part, we show how we could reconnect powerline. For this, we first generate a grid state with some line disconnected (1 and 2 for the example) and then see how we can leverage the superposition theorem to reconnect it."
   ]
  },
  {
   "cell_type": "code",
   "execution_count": null,
   "metadata": {},
   "outputs": [],
   "source": [
    "obs = env.reset()\n",
    "start_obs, *_  = env.step(env.action_space({\"set_bus\": {\"lines_or_id\": [(1, -1), (2, -1)]}}))\n",
    "state = State.from_grid2op_obs(start_obs, line_ids_reco_unary=(1, 2))"
   ]
  },
  {
   "cell_type": "markdown",
   "metadata": {},
   "source": [
    "Now we can reconnect these powerlines using the superposition theorem:"
   ]
  },
  {
   "cell_type": "code",
   "execution_count": null,
   "metadata": {},
   "outputs": [],
   "source": [
    "p_or_12 = state.compute_flows_reco_lines((1, 2))"
   ]
  },
  {
   "cell_type": "markdown",
   "metadata": {},
   "source": [
    "And finally, we can check the results"
   ]
  },
  {
   "cell_type": "code",
   "execution_count": null,
   "metadata": {},
   "outputs": [],
   "source": [
    "obs_true, *_ = start_obs.simulate(env.action_space({\"set_bus\": {\"lines_or_id\": [(1, 1), (2, 1)]}}), time_step=0)\n",
    "por_true = obs_true.p_or\n",
    "print(f\"Max difference: {np.abs(p_or_12 - por_true).max():.2e} MW\")"
   ]
  },
  {
   "cell_type": "markdown",
   "metadata": {},
   "source": [
    "# Topology modification (node splitting)\n",
    "\n",
    "In this section we demonstrate how to use the \"State\" api to perform topological modifications using the extended superposition theorem"
   ]
  },
  {
   "cell_type": "code",
   "execution_count": null,
   "metadata": {},
   "outputs": [],
   "source": [
    "start_obs = env.reset()\n",
    "\n",
    "init_state = State.from_grid2op_obs(start_obs)"
   ]
  },
  {
   "cell_type": "markdown",
   "metadata": {},
   "source": [
    "Then I build the action (which is a more complicated process, this is why we first build a \"state\" without any single actions, and then rebuild a state afterwards)\n",
    "\n",
    "The first action is:"
   ]
  },
  {
   "cell_type": "code",
   "execution_count": null,
   "metadata": {},
   "outputs": [],
   "source": [
    "# first unary action\n",
    "id_sub1 = 5\n",
    "act1 = init_state.get_emptyact()\n",
    "act1.set_subid(id_sub1)\n",
    "# act1.get_elem_sub()  # to know which elements are connected to this substation\n",
    "act1.set_bus(lines_id=[(7, 1), (8, 1), (9, 2), (17, 2)],\n",
    "             loads_id=[(4, 2)],\n",
    "             gens_id=[(2, 1), (3, 2)])\n",
    "\n",
    "# second unary action\n",
    "id_sub2 = 4\n",
    "act2 = init_state.get_emptyact()\n",
    "act2.set_subid(id_sub2)\n",
    "# act2.get_elem_sub()  # to know which elements are connected to this substation\n",
    "act2.set_bus(lines_id=[(1, 2), (4, 1), (6, 2), (17, 1)],\n",
    "             loads_id=[(3, 2)])"
   ]
  },
  {
   "cell_type": "markdown",
   "metadata": {},
   "source": [
    "Then we can compute the state with both unary actions (TODO this will be possible to add to something like `state.add_unary()`)"
   ]
  },
  {
   "cell_type": "code",
   "execution_count": null,
   "metadata": {},
   "outputs": [],
   "source": [
    "state = State.from_grid2op_obs(start_obs, subs_actions_unary=[act1, act2])"
   ]
  },
  {
   "cell_type": "code",
   "execution_count": null,
   "metadata": {},
   "outputs": [],
   "source": [
    "p_or_sub1sub2 = state.compute_flows_node_split((act1, act2))"
   ]
  },
  {
   "cell_type": "markdown",
   "metadata": {},
   "source": [
    "And finally we can check the consistency of the results:"
   ]
  },
  {
   "cell_type": "code",
   "execution_count": null,
   "metadata": {},
   "outputs": [],
   "source": [
    "obs_true, *_ = start_obs.simulate(act1.to_grid2op(env.action_space) + act2.to_grid2op(env.action_space), time_step=0)\n",
    "por_true = obs_true.p_or\n",
    "print(f\"Max difference: {np.abs(p_or_sub1sub2 - por_true).max():.2e} MW\")"
   ]
  }
 ],
 "metadata": {
  "kernelspec": {
   "display_name": "Python 3",
   "language": "python",
   "name": "python3"
  },
  "language_info": {
   "codemirror_mode": {
    "name": "ipython",
    "version": 3
   },
   "file_extension": ".py",
   "mimetype": "text/x-python",
   "name": "python",
   "nbconvert_exporter": "python",
   "pygments_lexer": "ipython3",
   "version": "3.8.10"
  },
  "orig_nbformat": 4
 },
 "nbformat": 4,
 "nbformat_minor": 2
}
