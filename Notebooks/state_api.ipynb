{
 "cells": [
  {
   "cell_type": "code",
   "execution_count": null,
   "metadata": {},
   "outputs": [],
   "source": [
    "import grid2op\n",
    "import numpy as np\n",
    "from superposition_theorem import State\n",
    "env = grid2op.make(\"l2rpn_case14_sandbox\")\n",
    "param = env.parameters\n",
    "param.ENV_DC = True  # force the computation of the powerflow in DC mode\n",
    "param.MAX_LINE_STATUS_CHANGED = 99999\n",
    "param.MAX_SUB_CHANGED = 99999\n",
    "param.NO_OVERFLOW_DISCONNECTION = True\n",
    "env.change_parameters(param)\n",
    "env.change_forecast_parameters(param)"
   ]
  },
  {
   "cell_type": "markdown",
   "metadata": {},
   "source": [
    "# Line disconnection\n",
    "\n",
    "Here we use the \"State\" interface to compute the disconnection (at its creation) and then we can see the results of each n-k (which are a lot)\n",
    "\n",
    "First, let's initialize the \"State\" with the unary line disconnections we want to combine"
   ]
  },
  {
   "cell_type": "code",
   "execution_count": null,
   "metadata": {},
   "outputs": [],
   "source": [
    "obs = env.reset()\n",
    "state = State.from_grid2op_obs(obs, line_ids_disc_unary=(1, 2, 3, 4, 7))"
   ]
  },
  {
   "cell_type": "markdown",
   "metadata": {},
   "source": [
    "And now we can compute the flows after the disconnection of 2 powerlines (for example): "
   ]
  },
  {
   "cell_type": "code",
   "execution_count": null,
   "metadata": {},
   "outputs": [],
   "source": [
    "p_or_12 = state.compute_flows_disco_lines((1, 2))"
   ]
  },
  {
   "cell_type": "markdown",
   "metadata": {},
   "source": [
    "And now we can check the results compared to using a real simulator:"
   ]
  },
  {
   "cell_type": "code",
   "execution_count": null,
   "metadata": {},
   "outputs": [],
   "source": [
    "obs_true, *_ = obs.simulate(env.action_space({\"set_bus\": {\"lines_or_id\": [(1, -1), (2, -1)]}}), time_step=0)\n",
    "por_true = obs_true.p_or\n",
    "print(f\"Max difference: {np.abs(p_or_12 - por_true).max():.2e} MW\")"
   ]
  },
  {
   "cell_type": "markdown",
   "metadata": {},
   "source": [
    "# Line reconnection\n",
    "\n",
    "In this second part, we show how we could reconnect powerline. For this, we first generate a grid state with some line disconnected (1 and 2 for the example) and then see how we can leverage the superposition theorem to reconnect it."
   ]
  },
  {
   "cell_type": "code",
   "execution_count": null,
   "metadata": {},
   "outputs": [],
   "source": [
    "obs = env.reset()\n",
    "start_obs, *_  = env.step(env.action_space({\"set_bus\": {\"lines_or_id\": [(1, -1), (2, -1)]}}))\n",
    "state = State.from_grid2op_obs(start_obs, line_ids_reco_unary=(1, 2))"
   ]
  },
  {
   "cell_type": "markdown",
   "metadata": {},
   "source": [
    "Now we can reconnect these powerlines using the superposition theorem:"
   ]
  },
  {
   "cell_type": "code",
   "execution_count": null,
   "metadata": {},
   "outputs": [],
   "source": [
    "p_or_12 = state.compute_flows_reco_lines((1, 2))"
   ]
  },
  {
   "cell_type": "markdown",
   "metadata": {},
   "source": [
    "And finally, we can check the results"
   ]
  },
  {
   "cell_type": "code",
   "execution_count": null,
   "metadata": {},
   "outputs": [],
   "source": [
    "obs_true, *_ = start_obs.simulate(env.action_space({\"set_bus\": {\"lines_or_id\": [(1, 1), (2, 1)]}}), time_step=0)\n",
    "por_true = obs_true.p_or\n",
    "print(f\"Max difference: {np.abs(p_or_12 - por_true).max():.2e} MW\")"
   ]
  },
  {
   "cell_type": "markdown",
   "metadata": {},
   "source": [
    "# Topology modification (node splitting)\n",
    "\n",
    "Work in progress :-)"
   ]
  }
 ],
 "metadata": {
  "kernelspec": {
   "display_name": "Python 3",
   "language": "python",
   "name": "python3"
  },
  "language_info": {
   "codemirror_mode": {
    "name": "ipython",
    "version": 3
   },
   "file_extension": ".py",
   "mimetype": "text/x-python",
   "name": "python",
   "nbconvert_exporter": "python",
   "pygments_lexer": "ipython3",
   "version": "3.8.10"
  },
  "orig_nbformat": 4
 },
 "nbformat": 4,
 "nbformat_minor": 2
}
