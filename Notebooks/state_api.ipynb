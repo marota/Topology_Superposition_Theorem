{
 "cells": [
  {
   "cell_type": "code",
   "execution_count": 1,
   "metadata": {},
   "outputs": [],
   "source": [
    "import grid2op\n",
    "import numpy as np\n",
    "\n",
    "from superposition_theorem import State\n",
    "\n",
    "env = grid2op.make(\"l2rpn_case14_sandbox\")\n",
    "param = env.parameters\n",
    "param.ENV_DC = True  # force the computation of the powerflow in DC mode\n",
    "param.MAX_LINE_STATUS_CHANGED = 99999\n",
    "param.MAX_SUB_CHANGED = 99999\n",
    "param.NO_OVERFLOW_DISCONNECTION = True\n",
    "env.change_parameters(param)\n",
    "env.change_forecast_parameters(param)"
   ]
  },
  {
   "cell_type": "markdown",
   "metadata": {},
   "source": [
    "# Line disconnection\n",
    "\n",
    "Here we use the \"State\" interface to compute the disconnection (at its creation) and then we can see the results of each n-k (which are a lot)\n",
    "\n",
    "First, let's initialize the \"State\" with the unary line disconnections we want to combine"
   ]
  },
  {
   "cell_type": "code",
   "execution_count": 2,
   "metadata": {},
   "outputs": [],
   "source": [
    "obs = env.reset()\n",
    "state = State.from_grid2op_obs(obs, line_ids_disc_unary=(1, 2, 3, 4, 7))"
   ]
  },
  {
   "cell_type": "markdown",
   "metadata": {},
   "source": [
    "And now we can compute the flows after the disconnection of 2 powerlines (for example): "
   ]
  },
  {
   "cell_type": "code",
   "execution_count": 3,
   "metadata": {},
   "outputs": [],
   "source": [
    "p_or_12 = state.compute_flows_disco_lines((1, 2))"
   ]
  },
  {
   "cell_type": "markdown",
   "metadata": {},
   "source": [
    "And now we can check the results compared to using a real simulator:"
   ]
  },
  {
   "cell_type": "code",
   "execution_count": 4,
   "metadata": {},
   "outputs": [
    {
     "name": "stdout",
     "output_type": "stream",
     "text": [
      "Max difference: 4.02e-06 MW\n"
     ]
    }
   ],
   "source": [
    "obs_true, *_ = obs.simulate(env.action_space({\"set_bus\": {\"lines_or_id\": [(1, -1), (2, -1)]}}), time_step=0)\n",
    "por_true = obs_true.p_or\n",
    "print(f\"Max difference: {np.abs(p_or_12 - por_true).max():.2e} MW\")"
   ]
  },
  {
   "cell_type": "markdown",
   "metadata": {},
   "source": [
    "# Line reconnection\n",
    "\n",
    "In this second part, we show how we could reconnect powerline. For this, we first generate a grid state with some line disconnected (1 and 2 for the example) and then see how we can leverage the superposition theorem to reconnect it."
   ]
  },
  {
   "cell_type": "code",
   "execution_count": 5,
   "metadata": {},
   "outputs": [],
   "source": [
    "obs = env.reset()\n",
    "start_obs, *_  = env.step(env.action_space({\"set_bus\": {\"lines_or_id\": [(1, -1), (2, -1)]}}))\n",
    "state = State.from_grid2op_obs(start_obs, line_ids_reco_unary=(1, 2))"
   ]
  },
  {
   "cell_type": "markdown",
   "metadata": {},
   "source": [
    "Now we can reconnect these powerlines using the superposition theorem:"
   ]
  },
  {
   "cell_type": "code",
   "execution_count": 6,
   "metadata": {},
   "outputs": [],
   "source": [
    "p_or_12 = state.compute_flows_reco_lines((1, 2))"
   ]
  },
  {
   "cell_type": "markdown",
   "metadata": {},
   "source": [
    "And finally, we can check the results"
   ]
  },
  {
   "cell_type": "code",
   "execution_count": 7,
   "metadata": {},
   "outputs": [
    {
     "name": "stdout",
     "output_type": "stream",
     "text": [
      "Max difference: 1.91e-06 MW\n"
     ]
    }
   ],
   "source": [
    "obs_true, *_ = start_obs.simulate(env.action_space({\"set_bus\": {\"lines_or_id\": [(1, 1), (2, 1)]}}), time_step=0)\n",
    "por_true = obs_true.p_or\n",
    "print(f\"Max difference: {np.abs(p_or_12 - por_true).max():.2e} MW\")"
   ]
  },
  {
   "cell_type": "markdown",
   "metadata": {},
   "source": [
    "# Topology modification (node splitting)\n",
    "\n",
    "In this section we demonstrate how to use the \"State\" api to perform topological modifications using the extended superposition theorem"
   ]
  },
  {
   "cell_type": "code",
   "execution_count": 8,
   "metadata": {},
   "outputs": [],
   "source": [
    "start_obs = env.reset()\n",
    "\n",
    "state = State.from_grid2op_obs(start_obs)"
   ]
  },
  {
   "cell_type": "markdown",
   "metadata": {},
   "source": [
    "Then I build the action (which is a more complicated process, this is why we first build a \"state\" without any single actions, and then rebuild a state afterwards)\n",
    "\n",
    "The first action is:"
   ]
  },
  {
   "cell_type": "code",
   "execution_count": 9,
   "metadata": {},
   "outputs": [],
   "source": [
    "# first unary action\n",
    "id_sub1 = 5\n",
    "act1 = state.get_emptyact()\n",
    "act1.set_subid(id_sub1)\n",
    "# act1.get_elem_sub()  # to know which elements are connected to this substation\n",
    "act1.set_bus(lines_id=[(7, 1), (8, 1), (9, 2), (17, 2)],\n",
    "             loads_id=[(4, 2)],\n",
    "             gens_id=[(2, 1), (3, 2)])\n",
    "\n",
    "# second unary action\n",
    "id_sub2 = 4\n",
    "act2 = state.get_emptyact()\n",
    "act2.set_subid(id_sub2)\n",
    "# act2.get_elem_sub()  # to know which elements are connected to this substation\n",
    "act2.set_bus(lines_id=[(1, 2), (4, 1), (6, 2), (17, 1)],\n",
    "             loads_id=[(3, 2)])"
   ]
  },
  {
   "cell_type": "markdown",
   "metadata": {},
   "source": [
    "Then we can compute the state with both unary actions :"
   ]
  },
  {
   "cell_type": "code",
   "execution_count": 10,
   "metadata": {},
   "outputs": [],
   "source": [
    "state.add_unary_actions_grid2op(start_obs, subs_actions_unary=[act1, act2])"
   ]
  },
  {
   "cell_type": "code",
   "execution_count": 11,
   "metadata": {},
   "outputs": [],
   "source": [
    "p_or_sub1sub2 = state.compute_flows_node_split((act1, act2))"
   ]
  },
  {
   "cell_type": "markdown",
   "metadata": {},
   "source": [
    "And finally we can check the consistency of the results:"
   ]
  },
  {
   "cell_type": "code",
   "execution_count": 12,
   "metadata": {},
   "outputs": [
    {
     "name": "stdout",
     "output_type": "stream",
     "text": [
      "Max difference: 1.91e-06 MW\n"
     ]
    }
   ],
   "source": [
    "obs_true, *_ = start_obs.simulate(act1.to_grid2op(env.action_space) + act2.to_grid2op(env.action_space), time_step=0)\n",
    "por_true = obs_true.p_or\n",
    "print(f\"Max difference: {np.abs(p_or_sub1sub2 - por_true).max():.2e} MW\")"
   ]
  },
  {
   "cell_type": "markdown",
   "metadata": {},
   "source": [
    "# Combination of different action types (ex. line disconnection and topology)\n",
    "\n",
    "In this section we show how to use the \"state\" api to combine unary action of different types (for example line disconenction and topology). We will reuse the same kind of action as the one showed in the above sections.\n",
    "\n",
    "TODO section in progress !"
   ]
  },
  {
   "cell_type": "code",
   "execution_count": 13,
   "metadata": {},
   "outputs": [],
   "source": [
    "start_obs = env.reset()\n",
    "\n",
    "state = State.from_grid2op_obs(start_obs,\n",
    "                               line_ids_disc_unary=(2, 3),\n",
    "                               subs_actions_unary=[act1, act2])\n"
   ]
  },
  {
   "cell_type": "code",
   "execution_count": 14,
   "metadata": {},
   "outputs": [
    {
     "ename": "NotImplementedError",
     "evalue": "TODO",
     "output_type": "error",
     "traceback": [
      "\u001b[0;31m---------------------------------------------------------------------------\u001b[0m",
      "\u001b[0;31mNotImplementedError\u001b[0m                       Traceback (most recent call last)",
      "\u001b[1;32m/home/donnotben/Documents/topology_superposition_theorem/Notebooks/state_api.ipynb Cell 25\u001b[0m in \u001b[0;36m<cell line: 1>\u001b[0;34m()\u001b[0m\n\u001b[0;32m----> <a href='vscode-notebook-cell:/home/donnotben/Documents/topology_superposition_theorem/Notebooks/state_api.ipynb#X34sZmlsZQ%3D%3D?line=0'>1</a>\u001b[0m p_or_combined \u001b[39m=\u001b[39m state\u001b[39m.\u001b[39;49mcompute_flows(line_ids_disc\u001b[39m=\u001b[39;49m(\u001b[39m2\u001b[39;49m, \u001b[39m3\u001b[39;49m), subs_actions\u001b[39m=\u001b[39;49m[act1, act2])\n",
      "File \u001b[0;32m~/Documents/topology_superposition_theorem/superposition_theorem/grid_state.py:256\u001b[0m, in \u001b[0;36mState.compute_flows\u001b[0;34m(self, line_ids_disc, line_ids_reco, subs_actions)\u001b[0m\n\u001b[1;32m    249\u001b[0m \u001b[39mdef\u001b[39;00m \u001b[39mcompute_flows\u001b[39m(\u001b[39mself\u001b[39m,\n\u001b[1;32m    250\u001b[0m                   \u001b[39m*\u001b[39m,  \u001b[39m# force kwargs\u001b[39;00m\n\u001b[1;32m    251\u001b[0m                   line_ids_disc : List[\u001b[39mint\u001b[39m] \u001b[39m=\u001b[39m (),\n\u001b[1;32m    252\u001b[0m                   line_ids_reco : List[\u001b[39mint\u001b[39m]  \u001b[39m=\u001b[39m (),\n\u001b[1;32m    253\u001b[0m                   subs_actions : List[SubAction]  \u001b[39m=\u001b[39m ()\n\u001b[1;32m    254\u001b[0m                   ) \u001b[39m-\u001b[39m\u001b[39m>\u001b[39m np\u001b[39m.\u001b[39mndarray:\n\u001b[1;32m    255\u001b[0m \u001b[39m    \u001b[39m\u001b[39m\"\"\"compute the flows when combining action of different type\"\"\"\u001b[39;00m\n\u001b[0;32m--> 256\u001b[0m     \u001b[39mraise\u001b[39;00m \u001b[39mNotImplementedError\u001b[39;00m(\u001b[39m\"\u001b[39m\u001b[39mTODO\u001b[39m\u001b[39m\"\u001b[39m)\n\u001b[1;32m    257\u001b[0m     n \u001b[39m=\u001b[39m \u001b[39m0\u001b[39m\n\u001b[1;32m    258\u001b[0m     \u001b[39mif\u001b[39;00m subs_actions:\n",
      "\u001b[0;31mNotImplementedError\u001b[0m: TODO"
     ]
    }
   ],
   "source": [
    "p_or_combined = state.compute_flows(line_ids_disc=(2, 3), subs_actions=[act1, act2])"
   ]
  },
  {
   "cell_type": "code",
   "execution_count": null,
   "metadata": {},
   "outputs": [],
   "source": [
    "combined_act = act1.to_grid2op(env.action_space) + act2.to_grid2op(env.action_space)\n",
    "combined_act += env.action_space({\"set_line_status\": [(2, -1), (3, -1)]})\n",
    "obs_true, r, done, info = start_obs.simulate(combined_act, time_step=0)\n",
    "assert not info[\"exception\"], f'Error while performing the powerflow check: {info[\"exception\"]}'\n",
    "por_true = obs_true.p_or\n",
    "print(f\"Max difference: {np.abs(p_or_combined - por_true).max():.2e} MW\")"
   ]
  },
  {
   "cell_type": "code",
   "execution_count": null,
   "metadata": {},
   "outputs": [],
   "source": [
    "p_or_combined"
   ]
  }
 ],
 "metadata": {
  "kernelspec": {
   "display_name": "Python 3",
   "language": "python",
   "name": "python3"
  },
  "language_info": {
   "codemirror_mode": {
    "name": "ipython",
    "version": 3
   },
   "file_extension": ".py",
   "mimetype": "text/x-python",
   "name": "python",
   "nbconvert_exporter": "python",
   "pygments_lexer": "ipython3",
   "version": "3.8.10"
  },
  "orig_nbformat": 4
 },
 "nbformat": 4,
 "nbformat_minor": 2
}
